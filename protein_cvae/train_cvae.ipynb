
# train_cvae.ipynb (skeleton content in .py format for now)
# Load dataset, preprocess (pH, temp, TF-IDF), embed sequence with ESM, and train CVAE

import pandas as pd
import torch
from sklearn.model_selection import train_test_split
from sklearn.feature_extraction.text import TfidfVectorizer
from sklearn.preprocessing import OneHotEncoder
from cvae_model import CVAE
from esm_utils import get_esm_embedding
import numpy as np

# Load dataset
df = pd.read_csv("crystallization.csv")
df = df.dropna(subset=["sequence", "resolution_class", "details", "pH", "temperature"])

# One-hot encode resolution class
encoder = OneHotEncoder(sparse=False)
res_class_onehot = encoder.fit_transform(df[["resolution_class"]])

# TF-IDF vector for condition details
tfidf = TfidfVectorizer(max_features=50)
condition_vec = tfidf.fit_transform(df["details"]).toarray()

# Embed protein sequences using ESM
df["embedding"] = df["sequence"].apply(lambda s: get_esm_embedding(s))
X_embed = np.stack(df["embedding"].values)

# Combine inputs
X_input = X_embed
C_cond = res_class_onehot
Y_output = np.hstack([df[["pH", "temperature"]].values, condition_vec])

# Train/test split
X_train, X_test, C_train, C_test, Y_train, Y_test = train_test_split(X_input, C_cond, Y_output, test_size=0.2)

# Convert to tensors
X_train, C_train, Y_train = map(torch.tensor, (X_train, C_train, Y_train))
X_test, C_test, Y_test = map(torch.tensor, (X_test, C_test, Y_test))

# Train CVAE
model = CVAE(input_dim=1280, condition_dim=C_train.shape[1], output_dim=Y_train.shape[1])
optimizer = torch.optim.Adam(model.parameters(), lr=1e-3)

for epoch in range(10):
    model.train()
    optimizer.zero_grad()
    y_pred, mu, logvar = model(X_train, C_train)
    loss, _, _ = model.loss_function(y_pred, Y_train, mu, logvar)
    loss.backward()
    optimizer.step()
    print(f"Epoch {epoch+1}: Loss = {loss.item():.4f}")

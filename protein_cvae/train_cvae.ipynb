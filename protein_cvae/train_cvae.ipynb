{
 "cells": [
  {
   "cell_type": "markdown",
   "metadata": {
    "id": "QrIp_DC686gR"
   },
   "source": [
    "# Install Prerequisites"
   ]
  },
  {
   "cell_type": "markdown",
   "metadata": {
    "id": "m6-zTmCj9L-U"
   },
   "source": [
    "## Install python 3.10.12"
   ]
  },
  {
   "cell_type": "code",
   "execution_count": null,
   "metadata": {
    "colab": {
     "base_uri": "https://localhost:8080/",
     "height": 34
    },
    "collapsed": true,
    "executionInfo": {
     "elapsed": 34238,
     "status": "ok",
     "timestamp": 1750600010219,
     "user": {
      "displayName": "Bagus Arjanto",
      "userId": "06430132283628542737"
     },
     "user_tz": -420
    },
    "id": "f8KM0rVbSQpX",
    "outputId": "c457b011-ed5d-4321-e414-f6d36b626c0b"
   },
   "outputs": [
    {
     "name": "stdout",
     "output_type": "stream",
     "text": [
      "Restarting runtime...\n"
     ]
    },
    {
     "data": {
      "application/javascript": "google.colab.kernel.restart()",
      "text/plain": [
       "<IPython.core.display.Javascript object>"
      ]
     },
     "execution_count": 5,
     "metadata": {},
     "output_type": "execute_result"
    }
   ],
   "source": [
    "# Download and install Miniconda silently\n",
    "!wget -nc https://repo.anaconda.com/miniconda/Miniconda3-latest-Linux-x86_64.sh  > /dev/null 2>&1\n",
    "!bash Miniconda3-latest-Linux-x86_64.sh -b -f -p /usr/local  > /dev/null 2>&1\n",
    "\n",
    "# Set conda in PATH\n",
    "import sys\n",
    "sys.path.append('/usr/local/lib/python3.10/site-packages')\n",
    "\n",
    "# Install Python 3.10 and pip\n",
    "!conda install -q -y python=3.10.12 pip  > /dev/null 2>&1\n",
    "\n",
    "# Install ipykernel for Python 3.10 so we can switch kernel\n",
    "!pip install ipykernel  > /dev/null 2>&1\n",
    "\n",
    "#Restart runtime\n",
    "print(\"Restarting runtime...\")\n",
    "from IPython.display import Javascript\n",
    "Javascript('google.colab.kernel.restart()')"
   ]
  },
  {
   "cell_type": "markdown",
   "metadata": {
    "id": "B9wJdgfP8wEx"
   },
   "source": [
    "## Install requirements"
   ]
  },
  {
   "cell_type": "code",
   "execution_count": null,
   "metadata": {
    "colab": {
     "base_uri": "https://localhost:8080/"
    },
    "executionInfo": {
     "elapsed": 165535,
     "status": "ok",
     "timestamp": 1750600182744,
     "user": {
      "displayName": "Bagus Arjanto",
      "userId": "06430132283628542737"
     },
     "user_tz": -420
    },
    "id": "kOzoW7VF0qJ-",
    "outputId": "56b8faaf-850e-4562-de35-cc5ce6c911f0"
   },
   "outputs": [],
   "source": [
    "!pip install torch pandas scikit-learn fair-esm"
   ]
  },
  {
   "cell_type": "markdown",
   "metadata": {
    "id": "w_NBlVYm9mXs"
   },
   "source": [
    "## Download training script from repository"
   ]
  },
  {
   "cell_type": "code",
   "execution_count": null,
   "metadata": {
    "colab": {
     "base_uri": "https://localhost:8080/"
    },
    "executionInfo": {
     "elapsed": 1388,
     "status": "ok",
     "timestamp": 1750599524378,
     "user": {
      "displayName": "Bagus Arjanto",
      "userId": "06430132283628542737"
     },
     "user_tz": -420
    },
    "id": "NqqOh4m11Qv7",
    "outputId": "79394a58-261a-4960-de60-9d9f6f1dc49f"
   },
   "outputs": [],
   "source": [
    "!git clone https://github.com/bagusar2906/Protein-Crystallization-Modeling-Pipeline.git /content/training"
   ]
  },
  {
   "cell_type": "markdown",
   "metadata": {
    "id": "r8CW_B189q3j"
   },
   "source": [
    "# Train Model with Dataset"
   ]
  },
  {
   "cell_type": "code",
   "execution_count": null,
   "metadata": {
    "colab": {
     "base_uri": "https://localhost:8080/"
    },
    "executionInfo": {
     "elapsed": 6,
     "status": "ok",
     "timestamp": 1750600295698,
     "user": {
      "displayName": "Bagus Arjanto",
      "userId": "06430132283628542737"
     },
     "user_tz": -420
    },
    "id": "uIXZxaH23j_A",
    "outputId": "7fb83e69-9b63-43b2-fbfe-caa5f5abb309"
   },
   "outputs": [
    {
     "name": "stdout",
     "output_type": "stream",
     "text": [
      "Current directory: /content/training/protein_cvae\n"
     ]
    }
   ],
   "source": [
    "import os\n",
    "\n",
    "# Change to your desired directory\n",
    "os.chdir('/content/training/protein_cvae')\n",
    "\n",
    "# Confirm the current directory\n",
    "print(\"Current directory:\", os.getcwd())"
   ]
  },
  {
   "cell_type": "code",
   "execution_count": null,
   "metadata": {
    "colab": {
     "base_uri": "https://localhost:8080/"
    },
    "executionInfo": {
     "elapsed": 3112,
     "status": "ok",
     "timestamp": 1750600674658,
     "user": {
      "displayName": "Bagus Arjanto",
      "userId": "06430132283628542737"
     },
     "user_tz": -420
    },
    "id": "fp80iqsd2y5O",
    "outputId": "1c4889ca-c064-4006-f582-59faaa71a8c0"
   },
   "outputs": [],
   "source": [
    "import sys\n",
    "sys.path.append('/content/training/protein_cvae')\n",
    "\n",
    "import pandas as pd\n",
    "import torch\n",
    "from sklearn.model_selection import train_test_split\n",
    "from sklearn.feature_extraction.text import TfidfVectorizer\n",
    "from sklearn.preprocessing import OneHotEncoder\n",
    "from cvae_model import CVAE\n",
    "from esm_utils import get_esm_embedding\n",
    "import numpy as np\n",
    "\n",
    "# Load dataset\n",
    "df = pd.read_csv(\"crystallization.csv\")\n",
    "df = df.dropna(subset=[\"sequence\", \"resolution_class\", \"details\", \"pH\", \"temperature\"])\n",
    "\n",
    "# One-hot encode resolution class\n",
    "encoder = OneHotEncoder(sparse_output=False)\n",
    "res_class_onehot = encoder.fit_transform(df[[\"resolution_class\"]])\n",
    "\n",
    "# TF-IDF vector for condition details\n",
    "tfidf = TfidfVectorizer(max_features=50)\n",
    "condition_vec = tfidf.fit_transform(df[\"details\"]).toarray()\n",
    "\n",
    "# Embed protein sequences using ESM\n",
    "df[\"embedding\"] = df[\"sequence\"].apply(lambda s: get_esm_embedding(s))\n",
    "X_embed = np.stack(df[\"embedding\"].values)\n",
    "\n",
    "# Combine inputs\n",
    "X_input = X_embed\n",
    "C_cond = res_class_onehot\n",
    "Y_output = np.hstack([df[[\"pH\", \"temperature\"]].values, condition_vec])\n",
    "\n",
    "# Train/test split\n",
    "X_train, X_test, C_train, C_test, Y_train, Y_test = train_test_split(X_input, C_cond, Y_output, test_size=0.2)\n",
    "\n",
    "# Convert to tensors, ensuring they are float32\n",
    "X_train, C_train, Y_train = map(lambda x: torch.tensor(x, dtype=torch.float32), (X_train, C_train, Y_train))\n",
    "X_test, C_test, Y_test = map(lambda x: torch.tensor(x, dtype=torch.float32), (X_test, C_test, Y_test))\n",
    "\n",
    "# Train CVAE\n",
    "model = CVAE(input_dim=1280, condition_dim=C_train.shape[1], output_dim=Y_train.shape[1])\n",
    "optimizer = torch.optim.Adam(model.parameters(), lr=1e-3)\n",
    "\n",
    "for epoch in range(10):\n",
    "    model.train()\n",
    "    optimizer.zero_grad()\n",
    "    y_pred, mu, logvar = model(X_train, C_train)\n",
    "    loss, _, _ = model.loss_function(y_pred, Y_train, mu, logvar)\n",
    "    loss.backward()\n",
    "    optimizer.step()\n",
    "    print(f\"Epoch {epoch+1}: Loss = {loss.item():.4f}\")\n"
   ]
  }
 ],
 "metadata": {
  "accelerator": "GPU",
  "colab": {
   "authorship_tag": "ABX9TyMxl/lygf9Qp43tVRj/eWrg",
   "gpuType": "T4",
   "provenance": [],
   "toc_visible": true
  },
  "kernelspec": {
   "display_name": "Python 3",
   "name": "python3"
  },
  "language_info": {
   "name": "python"
  }
 },
 "nbformat": 4,
 "nbformat_minor": 0
}
